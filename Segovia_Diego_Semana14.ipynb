{
 "cells": [
  {
   "cell_type": "code",
   "execution_count": 12,
   "id": "d1ae26d4",
   "metadata": {},
   "outputs": [],
   "source": [
    "import pandas as pd\n",
    "from string import ascii_uppercase as alfabeto\n",
    "import pickle"
   ]
  },
  {
   "cell_type": "code",
   "execution_count": 13,
   "id": "aebaaeeb",
   "metadata": {},
   "outputs": [],
   "source": [
    "todas_tablas = pd.read_html('https://en.wikipedia.org/wiki/2014_FIFA_World_Cup')"
   ]
  },
  {
   "cell_type": "code",
   "execution_count": 14,
   "id": "c00b74cd",
   "metadata": {},
   "outputs": [
    {
     "data": {
      "text/html": [
       "<div>\n",
       "<style scoped>\n",
       "    .dataframe tbody tr th:only-of-type {\n",
       "        vertical-align: middle;\n",
       "    }\n",
       "\n",
       "    .dataframe tbody tr th {\n",
       "        vertical-align: top;\n",
       "    }\n",
       "\n",
       "    .dataframe thead th {\n",
       "        text-align: right;\n",
       "    }\n",
       "</style>\n",
       "<table border=\"1\" class=\"dataframe\">\n",
       "  <thead>\n",
       "    <tr style=\"text-align: right;\">\n",
       "      <th></th>\n",
       "      <th>Mexico</th>\n",
       "      <th>1–0</th>\n",
       "      <th>Cameroon</th>\n",
       "    </tr>\n",
       "  </thead>\n",
       "  <tbody>\n",
       "    <tr>\n",
       "      <th>0</th>\n",
       "      <td>Peralta 61'</td>\n",
       "      <td>Report</td>\n",
       "      <td>NaN</td>\n",
       "    </tr>\n",
       "  </tbody>\n",
       "</table>\n",
       "</div>"
      ],
      "text/plain": [
       "        Mexico     1–0  Cameroon\n",
       "0  Peralta 61'  Report       NaN"
      ]
     },
     "execution_count": 14,
     "metadata": {},
     "output_type": "execute_result"
    }
   ],
   "source": [
    "todas_tablas[12]"
   ]
  },
  {
   "cell_type": "code",
   "execution_count": 15,
   "id": "af153f25",
   "metadata": {},
   "outputs": [
    {
     "name": "stdout",
     "output_type": "stream",
     "text": [
      "A 12\n",
      "B 19\n",
      "C 26\n",
      "D 33\n",
      "E 40\n",
      "F 47\n",
      "G 54\n",
      "H 61\n"
     ]
    }
   ],
   "source": [
    "for letra, i in zip(alfabeto, range(12, 68, 7)):\n",
    "    print (letra, i)"
   ]
  },
  {
   "cell_type": "code",
   "execution_count": 16,
   "id": "18117c5d",
   "metadata": {},
   "outputs": [],
   "source": [
    "todas_tablas = pd.read_html('https://web.archive.org/web/20221115040351/https://en.wikipedia.org/wiki/2022_FIFA_World_Cup')\n",
    "\n",
    "dict_tablas = {}\n",
    "for letra, i in zip(alfabeto, range(12, 68, 7)):\n",
    "    df = todas_tablas[i]\n",
    "    df.rename(columns={df.columns[1]: 'Team'}, inplace=True)\n",
    "    df.pop('Qualification')\n",
    "    dict_tablas[f'Grupo {letra}'] = df"
   ]
  },
  {
   "cell_type": "code",
   "execution_count": 20,
   "id": "7b5550af",
   "metadata": {},
   "outputs": [
    {
     "data": {
      "text/plain": [
       "{'Grupo A':    Pos         Team  Pld  W  D  L  GF  GA  GD  Pts\n",
       " 0    1    Qatar (H)    0  0  0  0   0   0   0    0\n",
       " 1    2      Ecuador    0  0  0  0   0   0   0    0\n",
       " 2    3      Senegal    0  0  0  0   0   0   0    0\n",
       " 3    4  Netherlands    0  0  0  0   0   0   0    0,\n",
       " 'Grupo B':    Pos           Team  Pld  W  D  L  GF  GA  GD  Pts\n",
       " 0    1        England    0  0  0  0   0   0   0    0\n",
       " 1    2           Iran    0  0  0  0   0   0   0    0\n",
       " 2    3  United States    0  0  0  0   0   0   0    0\n",
       " 3    4          Wales    0  0  0  0   0   0   0    0,\n",
       " 'Grupo C':    Pos          Team  Pld  W  D  L  GF  GA  GD  Pts\n",
       " 0    1     Argentina    0  0  0  0   0   0   0    0\n",
       " 1    2  Saudi Arabia    0  0  0  0   0   0   0    0\n",
       " 2    3        Mexico    0  0  0  0   0   0   0    0\n",
       " 3    4        Poland    0  0  0  0   0   0   0    0,\n",
       " 'Grupo D':    Pos       Team  Pld  W  D  L  GF  GA  GD  Pts\n",
       " 0    1     France    0  0  0  0   0   0   0    0\n",
       " 1    2  Australia    0  0  0  0   0   0   0    0\n",
       " 2    3    Denmark    0  0  0  0   0   0   0    0\n",
       " 3    4    Tunisia    0  0  0  0   0   0   0    0,\n",
       " 'Grupo E':    Pos        Team  Pld  W  D  L  GF  GA  GD  Pts\n",
       " 0    1       Spain    0  0  0  0   0   0   0    0\n",
       " 1    2  Costa Rica    0  0  0  0   0   0   0    0\n",
       " 2    3     Germany    0  0  0  0   0   0   0    0\n",
       " 3    4       Japan    0  0  0  0   0   0   0    0,\n",
       " 'Grupo F':    Pos     Team  Pld  W  D  L  GF  GA  GD  Pts\n",
       " 0    1  Belgium    0  0  0  0   0   0   0    0\n",
       " 1    2   Canada    0  0  0  0   0   0   0    0\n",
       " 2    3  Morocco    0  0  0  0   0   0   0    0\n",
       " 3    4  Croatia    0  0  0  0   0   0   0    0,\n",
       " 'Grupo G':    Pos         Team  Pld  W  D  L  GF  GA  GD  Pts\n",
       " 0    1       Brazil    0  0  0  0   0   0   0    0\n",
       " 1    2       Serbia    0  0  0  0   0   0   0    0\n",
       " 2    3  Switzerland    0  0  0  0   0   0   0    0\n",
       " 3    4     Cameroon    0  0  0  0   0   0   0    0,\n",
       " 'Grupo H':    Pos         Team  Pld  W  D  L  GF  GA  GD  Pts\n",
       " 0    1     Portugal    0  0  0  0   0   0   0    0\n",
       " 1    2        Ghana    0  0  0  0   0   0   0    0\n",
       " 2    3      Uruguay    0  0  0  0   0   0   0    0\n",
       " 3    4  South Korea    0  0  0  0   0   0   0    0}"
      ]
     },
     "execution_count": 20,
     "metadata": {},
     "output_type": "execute_result"
    }
   ],
   "source": [
    "dict_tablas"
   ]
  },
  {
   "cell_type": "code",
   "execution_count": 19,
   "id": "0c09c30e",
   "metadata": {},
   "outputs": [],
   "source": [
    "with open('dict_tablas', 'wb') as output:\n",
    "    pickle.dump(dict_tablas, output)\n"
   ]
  },
  {
   "cell_type": "code",
   "execution_count": null,
   "id": "9c62e41c",
   "metadata": {},
   "outputs": [],
   "source": []
  }
 ],
 "metadata": {
  "kernelspec": {
   "display_name": "Python 3 (ipykernel)",
   "language": "python",
   "name": "python3"
  },
  "language_info": {
   "codemirror_mode": {
    "name": "ipython",
    "version": 3
   },
   "file_extension": ".py",
   "mimetype": "text/x-python",
   "name": "python",
   "nbconvert_exporter": "python",
   "pygments_lexer": "ipython3",
   "version": "3.11.3"
  }
 },
 "nbformat": 4,
 "nbformat_minor": 5
}
