{
 "cells": [
  {
   "cell_type": "code",
   "execution_count": 1,
   "id": "51c16def",
   "metadata": {},
   "outputs": [],
   "source": [
    "import pandas as pd"
   ]
  },
  {
   "cell_type": "code",
   "execution_count": 103,
   "id": "4c8f5d67",
   "metadata": {},
   "outputs": [],
   "source": [
    "df_data_historica = pd.read_csv('fifa_worldcup_matches.csv')\n",
    "df_fixture = pd.read_csv('fifa_worldcup_fixture.csv')\n",
    "df_data_faltante = pd.read_csv('fifa_worldcup_missing_data.csv')"
   ]
  },
  {
   "cell_type": "code",
   "execution_count": 104,
   "id": "5a7b524f",
   "metadata": {},
   "outputs": [],
   "source": [
    "df_fixture['home'] = df_fixture['home'].str.strip()\n",
    "df_fixture['away'] = df_fixture['away'].str.strip()"
   ]
  },
  {
   "cell_type": "code",
   "execution_count": 105,
   "id": "7e2336df",
   "metadata": {},
   "outputs": [],
   "source": [
    "df_data_faltante.dropna(inplace=True)"
   ]
  },
  {
   "cell_type": "code",
   "execution_count": 106,
   "id": "8c5211c2",
   "metadata": {},
   "outputs": [
    {
     "data": {
      "text/html": [
       "<div>\n",
       "<style scoped>\n",
       "    .dataframe tbody tr th:only-of-type {\n",
       "        vertical-align: middle;\n",
       "    }\n",
       "\n",
       "    .dataframe tbody tr th {\n",
       "        vertical-align: top;\n",
       "    }\n",
       "\n",
       "    .dataframe thead th {\n",
       "        text-align: right;\n",
       "    }\n",
       "</style>\n",
       "<table border=\"1\" class=\"dataframe\">\n",
       "  <thead>\n",
       "    <tr style=\"text-align: right;\">\n",
       "      <th></th>\n",
       "      <th>home</th>\n",
       "      <th>score</th>\n",
       "      <th>away</th>\n",
       "      <th>year</th>\n",
       "    </tr>\n",
       "  </thead>\n",
       "  <tbody>\n",
       "    <tr>\n",
       "      <th>0</th>\n",
       "      <td>France</td>\n",
       "      <td>4–1</td>\n",
       "      <td>Mexico</td>\n",
       "      <td>1930</td>\n",
       "    </tr>\n",
       "    <tr>\n",
       "      <th>17</th>\n",
       "      <td>Uruguay</td>\n",
       "      <td>4–2</td>\n",
       "      <td>Argentina</td>\n",
       "      <td>1930</td>\n",
       "    </tr>\n",
       "    <tr>\n",
       "      <th>16</th>\n",
       "      <td>Uruguay</td>\n",
       "      <td>6–1</td>\n",
       "      <td>Yugoslavia</td>\n",
       "      <td>1930</td>\n",
       "    </tr>\n",
       "    <tr>\n",
       "      <th>15</th>\n",
       "      <td>Argentina</td>\n",
       "      <td>6–1</td>\n",
       "      <td>United States</td>\n",
       "      <td>1930</td>\n",
       "    </tr>\n",
       "    <tr>\n",
       "      <th>14</th>\n",
       "      <td>Paraguay</td>\n",
       "      <td>1–0</td>\n",
       "      <td>Belgium</td>\n",
       "      <td>1930</td>\n",
       "    </tr>\n",
       "    <tr>\n",
       "      <th>...</th>\n",
       "      <td>...</td>\n",
       "      <td>...</td>\n",
       "      <td>...</td>\n",
       "      <td>...</td>\n",
       "    </tr>\n",
       "    <tr>\n",
       "      <th>419</th>\n",
       "      <td>Brazil</td>\n",
       "      <td>2–0</td>\n",
       "      <td>Costa Rica</td>\n",
       "      <td>2018</td>\n",
       "    </tr>\n",
       "    <tr>\n",
       "      <th>420</th>\n",
       "      <td>Serbia</td>\n",
       "      <td>1–2</td>\n",
       "      <td>Switzerland</td>\n",
       "      <td>2018</td>\n",
       "    </tr>\n",
       "    <tr>\n",
       "      <th>421</th>\n",
       "      <td>Serbia</td>\n",
       "      <td>0–2</td>\n",
       "      <td>Brazil</td>\n",
       "      <td>2018</td>\n",
       "    </tr>\n",
       "    <tr>\n",
       "      <th>408</th>\n",
       "      <td>France</td>\n",
       "      <td>1–0</td>\n",
       "      <td>Peru</td>\n",
       "      <td>2018</td>\n",
       "    </tr>\n",
       "    <tr>\n",
       "      <th>450</th>\n",
       "      <td>Brazil</td>\n",
       "      <td>1–2</td>\n",
       "      <td>Belgium</td>\n",
       "      <td>2018</td>\n",
       "    </tr>\n",
       "  </tbody>\n",
       "</table>\n",
       "<p>901 rows × 4 columns</p>\n",
       "</div>"
      ],
      "text/plain": [
       "           home score            away  year\n",
       "0       France    4–1          Mexico  1930\n",
       "17     Uruguay    4–2       Argentina  1930\n",
       "16     Uruguay    6–1      Yugoslavia  1930\n",
       "15   Argentina    6–1   United States  1930\n",
       "14    Paraguay    1–0         Belgium  1930\n",
       "..          ...   ...             ...   ...\n",
       "419     Brazil    2–0      Costa Rica  2018\n",
       "420     Serbia    1–2     Switzerland  2018\n",
       "421     Serbia    0–2          Brazil  2018\n",
       "408     France    1–0            Peru  2018\n",
       "450     Brazil    1–2         Belgium  2018\n",
       "\n",
       "[901 rows x 4 columns]"
      ]
     },
     "execution_count": 106,
     "metadata": {},
     "output_type": "execute_result"
    }
   ],
   "source": [
    "df_data_historica = pd.concat([df_data_historica, df_data_faltante], ignore_index=True)\n",
    "df_data_historica.drop_duplicates(inplace=True)\n",
    "df_data_historica.sort_values('year', inplace=True)\n",
    "df_data_historica"
   ]
  },
  {
   "cell_type": "code",
   "execution_count": 107,
   "id": "56347e03",
   "metadata": {},
   "outputs": [],
   "source": [
    "index_eliminar = df_data_historica[df_data_historica['home'].str.contains('Sweden') & \n",
    "                  df_data_historica['away'].str.contains('Austria')].index"
   ]
  },
  {
   "cell_type": "code",
   "execution_count": 108,
   "id": "60902ded",
   "metadata": {},
   "outputs": [],
   "source": [
    "df_data_historica.drop(index_eliminar, inplace=True)"
   ]
  },
  {
   "cell_type": "code",
   "execution_count": 109,
   "id": "baa17806",
   "metadata": {},
   "outputs": [],
   "source": [
    "df_data_historica['score'] = df_data_historica['score'].str.replace('[^\\d–]', '', regex=True)"
   ]
  },
  {
   "cell_type": "code",
   "execution_count": 110,
   "id": "1032976c",
   "metadata": {},
   "outputs": [],
   "source": [
    "df_data_historica['home'] = df_data_historica['home'].str.strip()\n",
    "df_data_historica['away'] = df_data_historica['away'].str.strip()"
   ]
  },
  {
   "cell_type": "code",
   "execution_count": 111,
   "id": "c3ca1902",
   "metadata": {},
   "outputs": [],
   "source": [
    "df_data_historica[['HomeGoals', 'AwayGoals']] = df_data_historica['score'].str.split('–', expand = True)"
   ]
  },
  {
   "cell_type": "code",
   "execution_count": 112,
   "id": "5e3e0802",
   "metadata": {},
   "outputs": [],
   "source": [
    "df_data_historica.drop('score', axis=1, inplace=True)"
   ]
  },
  {
   "cell_type": "code",
   "execution_count": 113,
   "id": "d439c5d3",
   "metadata": {},
   "outputs": [],
   "source": [
    "df_data_historica.rename(columns={'home':'HomeTeam', 'away':'AwayTeam', 'year':'Year'}, inplace=True)"
   ]
  },
  {
   "cell_type": "code",
   "execution_count": 114,
   "id": "07804a51",
   "metadata": {},
   "outputs": [],
   "source": [
    "df_data_historica = df_data_historica.astype({'HomeGoals': int,'AwayGoals': int, 'Year': int})"
   ]
  },
  {
   "cell_type": "code",
   "execution_count": 115,
   "id": "ff60e801",
   "metadata": {},
   "outputs": [],
   "source": [
    "df_data_historica['TotalGoals'] = df_data_historica['HomeGoals'] + df_data_historica['AwayGoals']"
   ]
  },
  {
   "cell_type": "code",
   "execution_count": 116,
   "id": "9c06897e",
   "metadata": {},
   "outputs": [],
   "source": [
    "df_data_historica.to_csv('clean_fifa_worldcup_matches.csv', index=False)\n",
    "df_fixture.to_csv('clean_fifa_worldcup_fixture.csv', index=False)"
   ]
  }
 ],
 "metadata": {
  "kernelspec": {
   "display_name": "Python 3 (ipykernel)",
   "language": "python",
   "name": "python3"
  },
  "language_info": {
   "codemirror_mode": {
    "name": "ipython",
    "version": 3
   },
   "file_extension": ".py",
   "mimetype": "text/x-python",
   "name": "python",
   "nbconvert_exporter": "python",
   "pygments_lexer": "ipython3",
   "version": "3.11.3"
  }
 },
 "nbformat": 4,
 "nbformat_minor": 5
}
